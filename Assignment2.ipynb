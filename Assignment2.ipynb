{
 "cells": [
  {
   "cell_type": "markdown",
   "id": "e2e806d4",
   "metadata": {},
   "source": [
    "# Assignment - 2: Data Representation and Point Cloud Operations\n",
    "\n",
    "Team Name: Family\n",
    "\n",
    "Roll number: 2019102014, 2019102017"
   ]
  },
  {
   "cell_type": "markdown",
   "id": "1e42e4d4",
   "metadata": {},
   "source": [
    "# Instructions\n",
    "\n",
    "- Code must be written in Python in Jupyter Notebooks. We highly recommend using anaconda distribution or at the minimum, virtual environments for this assignment.\n",
    "- Save all your results in ```results/<question_number>/<sub_topic_number>/```\n",
    "- The **References** section provides you with important resources to solve the assignment.\n",
    "- Make sure your code is modular since you may need to reuse parts for future assignments.\n",
    "- Answer the descriptive questions in your own words with context & clarity. Do not copy answers from online resources or lecture notes.\n",
    "- The **deadline** for this assignment is on 26/09/2021 at 11:55pm. Please note that there will be no extensions.\n",
    "- Plagiarism is **strictly prohibited**."
   ]
  },
  {
   "cell_type": "markdown",
   "id": "bb6ccd58",
   "metadata": {},
   "source": [
    "# Submission Instructions\n",
    "\n",
    "1. Make sure your code runs without any errors after reinitializing the kernel and removing all saved variables.\n",
    "2. After completing your code and saving your results, zip the folder with name as ``Team_<team_name>_MR2021_Assignment_<assignment_number>.zip``"
   ]
  },
  {
   "cell_type": "code",
   "execution_count": 1,
   "id": "b40d245c",
   "metadata": {},
   "outputs": [
    {
     "name": "stdout",
     "output_type": "stream",
     "text": [
      "Jupyter environment detected. Enabling Open3D WebVisualizer.\n",
      "[Open3D INFO] WebRTC GUI backend enabled.\n",
      "[Open3D INFO] WebRTCWindowSystem: HTTP handshake server disabled.\n"
     ]
    }
   ],
   "source": [
    "import numpy as np\n",
    "import matplotlib.pyplot as plt\n",
    "import math\n",
    "import struct\n",
    "import open3d\n",
    "import cv2\n",
    "import io\n",
    "import copy"
   ]
  },
  {
   "cell_type": "markdown",
   "id": "1f85262a",
   "metadata": {},
   "source": [
    "# Introduction to types of Transformations and Homogeneous coordinates\n",
    "\n",
    "In robotics applications, it is inevitable to keep track of the frames of multiple objects/worlds. These frames can be transformations from one coordinate frame to the other. **Homogeneous coordinates** help in keeping track of various coordinate frames and allow performing composition of various transforms. We will first try to understand between types of transformations and their invariant properties.\n",
    "1. What is the difference between Affine, Similarity, and Euclidean transform? What are the invariant properities of each type of transform?\n",
    "2. Watch this [video](https://www.youtube.com/watch?v=PvEl63t-opM) to briefly understand homogeneous coordinates. What are points at infinity? What type of transformation can you apply to transform a point from infinity to a point that is not at infinity? \n",
    "3. Using homogeneous coordinates we can represent different types of transformation as point transforms vs. frame transforms. Concatenation of transforms (whether you post multiply transformation matrices or pre-multiply transformation matrices) depends on the problem and how you are viewing it. Try to understand the difference between frame vs. point transformations from this [video](https://youtu.be/Za7Sdegf8m8?t=1834). Let's assume that our camera and world frames are coinciding with each other. We need to estimate the camera to world **frame** transformation matrix after applying the transformations defined below in terms of $T_i$.We apply **frame** transform to move the camera in the world in the following order:\n",
    "    1. $T_1$ from the camera coordinate frame.\n",
    "    2. $T_2$ from the world coordinate frame.\n",
    "    3. $T_3$ from the world coordinate frame.\n",
    "    4. $T_4$ from the camera coordinate frame.\n",
    "    5. $T_5$ from the camera coordinate frame.\n"
   ]
  },
  {
   "cell_type": "markdown",
   "id": "dc4c0e0a-d792-49f0-b1a1-27278feac6c6",
   "metadata": {},
   "source": [
    "<b>1.</b><br>\n",
    "   <b> 1.1.</b> Euclidean transform preserves angle and lengths, similarity transform preserves ratios of lengths, areas, and angles while affine transform preserves parallelism.<br>\n",
    "   <b> 1.2.</b>In terms of degrees of freedom, Affine transform has 6 DOF, Similarity transform has 4 DOF while euclidean transform has only 3 DOF.<br>\n",
    "<b>2.</b> Point where parallel lines appear to converge is to be taken as point at infinity(also called vanishing point). Perspective transform can be used to transform a point at infinity to a point at finite distance. This can be shown with the following example: \n",
    "$$\\begin{bmatrix} 0 & 0 & 1 & 0\\end{bmatrix} \\begin{bmatrix} 1 & 0 & 0 & 0 \\\\ 0 & 1 & 0 & 0 \\\\ 0 & 0 & 1 & x \\end{bmatrix} = \\begin{bmatrix} 0 & 0 & 1/x & 1\\end{bmatrix}$$<br>\n",
    "Now the point at infinity is projected to a final distance of 1/x units <br>\n",
    "<b>3.</b> It is given that the camera and world frame are coinciding with each other due to which there's no initial transform. Now based on the coordinate frame the transformations are applied on, we post or pre multiply the transformation matrix.\n",
    "<center>T = $[T_3T_2T_1T_4T_5]^{-1}$ = $T_5^{-1}T_4^{-1}T_1^{-1}T_2^{-1}T_3^{-1}$</center>\n",
    "NOTE: The inverse is needed as we need to estimate camera to world frame.   "
   ]
  },
  {
   "cell_type": "markdown",
   "id": "e5f08d84",
   "metadata": {},
   "source": [
    "# Visualise the Data\n",
    "\n",
    "Point clouds are a collection of points that represent a 3D shape or feature. Each point has its own set of X, Y and Z coordinates and in some cases additional attributes. A popular way to obtain this is by photogrammetry, though here we will use LiDAR data.\n",
    "\n",
    "LiDAR is a remote sensing process which collects measurements used to create 3D models and maps of objects and environments. Using ultraviolet, visible, or near-infrared light, LiDAR gauges spatial relationships and shapes by measuring the time it takes for signals to bounce off objects and return to the scanner.\n",
    "\n",
    "1. Download the data from [here](https://iiitaphyd-my.sharepoint.com/:f:/g/personal/venkata_surya_students_iiit_ac_in/EnYAMaTVIhJItzKYqtahE30BRKB6p6UfHN3TyJzvo6Mw0g?e=PegWds). It contains the LIDAR sensor output and odometry information per frame.\n",
    "\n",
    "    The .bin files contain the 3D point cloud captured by the LIDAR in this format - x, y, z, and reflectance. \n",
    "\n",
    "    The odometry information is given in the `odometry.txt` file, which is a 12 element vector. Reshape each of the first 77 rows to a 3x4 matrix to obtain the pose.\n",
    "    \n",
    "\n",
    "2. Obtain the point cloud from this and visualise for 1-2 frames."
   ]
  },
  {
   "cell_type": "markdown",
   "id": "ad02ac88-85f8-4407-93e2-d5c810f8c744",
   "metadata": {},
   "source": [
    "# Answers:\n",
    "\n",
    "### Part 1"
   ]
  },
  {
   "cell_type": "code",
   "execution_count": 2,
   "id": "21cc6252-92ef-4a8a-9e3e-64a7a2cacee2",
   "metadata": {},
   "outputs": [],
   "source": [
    "lines = []\n",
    "with io.open(\"data/odometry.txt\", mode=\"r\", encoding=\"utf-8\") as file:\n",
    "    for row in file:\n",
    "        l = row.split()\n",
    "        lines.append(l)\n",
    "# print(lines)"
   ]
  },
  {
   "cell_type": "code",
   "execution_count": 3,
   "id": "bde1ae04-d64c-4b27-9905-60e145cb66bb",
   "metadata": {},
   "outputs": [
    {
     "name": "stdout",
     "output_type": "stream",
     "text": [
      "[[ 1.000000e+00  9.043683e-12  2.326809e-11 ...  2.392370e-10\n",
      "   9.999999e-01 -2.220446e-16]\n",
      " [ 9.990498e-01 -1.649780e-03  4.355194e-02 ...  2.576529e-03\n",
      "   9.990480e-01  1.000725e+00]\n",
      " [ 9.960495e-01 -5.367949e-03  8.863831e-02 ...  7.485875e-03\n",
      "   9.960394e-01  1.995659e+00]\n",
      " ...\n",
      " [ 8.521727e-01 -2.191437e-02  5.228017e-01 ...  6.730095e-02\n",
      "   8.512152e-01 -1.048145e+03]\n",
      " [ 8.510645e-01 -2.217815e-02  5.245927e-01 ...  6.729994e-02\n",
      "   8.501262e-01 -1.046739e+03]\n",
      " [ 8.499437e-01 -2.495543e-02  5.262823e-01 ...  6.530726e-02\n",
      "   8.492505e-01 -1.045291e+03]]\n",
      "(1101, 12)\n"
     ]
    }
   ],
   "source": [
    "#Convert to float\n",
    "val = np.array(lines).astype('float')\n",
    "print(val)\n",
    "print(val.shape)"
   ]
  },
  {
   "cell_type": "code",
   "execution_count": 4,
   "id": "863bc158-4f66-47e6-9ccc-eab82d2cb6ff",
   "metadata": {},
   "outputs": [
    {
     "name": "stdout",
     "output_type": "stream",
     "text": [
      "(77, 12)\n"
     ]
    }
   ],
   "source": [
    "#Obtaining the first 77 rows\n",
    "odometry = val[:77, :]\n",
    "print(odometry.shape)\n",
    "# print(odometry)"
   ]
  },
  {
   "cell_type": "code",
   "execution_count": 5,
   "id": "ba2419f3-0e2f-4d2c-ba73-b1fe680f01b1",
   "metadata": {},
   "outputs": [],
   "source": [
    "# Reshape into 3x4 matrix\n",
    "Pose = np.zeros((77,3,4))\n",
    "for i in range(odometry.shape[0]):\n",
    "    p = np.reshape(odometry[i], (3, 4))\n",
    "    Pose[i] = p\n",
    "# print(Pose[2])"
   ]
  },
  {
   "cell_type": "markdown",
   "id": "e6a83d26-3f5a-428e-81a5-8c1c6f931c17",
   "metadata": {},
   "source": [
    "### Part 2"
   ]
  },
  {
   "cell_type": "code",
   "execution_count": 6,
   "id": "de8feb42-7992-484a-855e-f5aa44fbab3c",
   "metadata": {},
   "outputs": [],
   "source": [
    "# Read LiDAR sensor data and convert to PCD format for easier visualisation\n",
    "def BinToPCD(data):\n",
    "    PCD_point=[]\n",
    "    with open(data,\"rb\") as file:\n",
    "        val = file.read(16)\n",
    "        while val:\n",
    "            x,y,z,reflectance = struct.unpack(\"ffff\",val)\n",
    "            PCD_point.append([x,y,z])\n",
    "            val = file.read(16)\n",
    "    pcd = open3d.geometry.PointCloud()\n",
    "    pcd.points = open3d.utility.Vector3dVector(np.array(PCD_point))\n",
    "    return pcd"
   ]
  },
  {
   "cell_type": "code",
   "execution_count": 7,
   "id": "5d7124ff-462a-4573-8ffd-24e51799fcff",
   "metadata": {},
   "outputs": [],
   "source": [
    "\n",
    "#To combine all and check\n",
    "z = []\n",
    "for j in range(1,9):\n",
    "    for i in range(10):\n",
    "        if(j==8 and i==7):\n",
    "            break;\n",
    "        path = \"data/LiDAR/0000\"+str(j)+str(i)+\".bin\"\n",
    "        z1 = BinToPCD(path)\n",
    "        z.append(z1)\n",
    "# # print(z)\n",
    "#To visualise just 1-2 frames\n",
    "z1 = BinToPCD(\"data/LiDAR/000010.bin\")\n",
    "z2 = BinToPCD(\"data/LiDAR/000039.bin\")\n",
    "# z3 = BinToPCD(\"data/LiDAR/000085.bin\")\n",
    "# z4 = BinToPCD(\"data/LiDAR/000077.bin\")"
   ]
  },
  {
   "cell_type": "code",
   "execution_count": 8,
   "id": "c9c36d13",
   "metadata": {},
   "outputs": [],
   "source": [
    "# len(z)"
   ]
  },
  {
   "cell_type": "code",
   "execution_count": 9,
   "id": "ef9fdccf-aad0-4a59-a822-51f8da7024bd",
   "metadata": {},
   "outputs": [],
   "source": [
    "open3d.visualization.draw_geometries([z1])\n",
    "# open3d.visualization.draw_geometries(z)"
   ]
  },
  {
   "cell_type": "code",
   "execution_count": 10,
   "id": "c27c6a2a-3ebb-4a71-9a01-859f9fb27e45",
   "metadata": {},
   "outputs": [],
   "source": [
    "open3d.visualization.draw_geometries([z2])"
   ]
  },
  {
   "cell_type": "markdown",
   "id": "hairy-riverside",
   "metadata": {},
   "source": [
    "# Transform \n",
    "\n",
    "The point cloud obtained is with respect to the LiDAR frame. The poses however, are in the camera frame. If we want to combine the point clouds from various frames, we need to bring them to the camera frame. \n",
    "\n",
    "1. Refer to the image below and apply the required transformation to the point cloud. \n",
    "\n",
    "2. Then, register all point clouds into a common reference frame and visualise it (Open3D). It is helpful to use homogeneous coordinates to keep track of the different frames.\n",
    "\n",
    "3. Write a function to transform the registered point cloud from the world to the $i^{th}$ camera frame, wherein $i$ is the input to the function.\n",
    "\n",
    "4. \\[Bonus\\] Move around in the registered point cloud using arrow keys like you would do in a game. For this you will have to regularly transform the entire registered world to your current camera frame and visualize repeatedly. You may choose to avoid visualizing points that are behind the camera in this case as they are not visible from the scene. You may also visualize points at a max depth to make the process easier.\n",
    "\n",
    "![](./img/transform.png)"
   ]
  },
  {
   "cell_type": "code",
   "execution_count": 11,
   "id": "second-school",
   "metadata": {},
   "outputs": [],
   "source": [
    "def XYZtoRotationMatrix(a,b,g):\n",
    "    cosA = math.cos(a)\n",
    "    cosB = math.cos(b)\n",
    "    cosG = math.cos(g)\n",
    "    sinA = math.sin(a)\n",
    "    sinB = math.sin(b)\n",
    "    sinG = math.sin(g)\n",
    "    \n",
    "    rotationMatrix = [[cosB * cosG, -cosB * sinG, sinB],\n",
    "                      [((sinA * sinB * cosG) + (cosA * sinG)) , ((-sinA * sinB * sinG) + (cosA*cosG)), (-sinA*cosB)],\n",
    "                      [((-cosA * sinB * cosG) + sinA * sinG) ,((cosA * sinB * sinG) + (sinA*cosG) ) , (cosA * cosB) ]]\n",
    "    return rotationMatrix"
   ]
  },
  {
   "cell_type": "code",
   "execution_count": 12,
   "id": "43a3c9eb-1ea4-4335-994f-f85ed80fe0f1",
   "metadata": {},
   "outputs": [],
   "source": [
    "def inversetransform(ps):\n",
    "    R = ps[0:3,0:3]\n",
    "    T = ps[0:3,3]\n",
    "    out = copy.deepcopy(ps)\n",
    "    out[0:3,0:3] = R.T\n",
    "    out[0:3,3] = -R.T@T\n",
    "    return out\n",
    "#not used at all "
   ]
  },
  {
   "cell_type": "code",
   "execution_count": 13,
   "id": "239d6f47-a805-4855-bc47-fc08c04c5a47",
   "metadata": {},
   "outputs": [],
   "source": [
    "front = [ 0.0011119002333739773, -0.74094929961805955, -0.67156004874722719 ],\n",
    "lookat=  [ 39.825969951019133, 4.6046088357320052, 11.586009199183835 ],\n",
    "up = [ -0.53043588615468118, -0.56973550046012811, 0.62772544172969891 ],\n",
    "zoom = 0.5199999999999998"
   ]
  },
  {
   "cell_type": "code",
   "execution_count": 14,
   "id": "c8310916-3b68-4aa5-86b0-1af9693844dd",
   "metadata": {},
   "outputs": [],
   "source": [
    "#PART - 1\n",
    "#applying required transform to point cloud\n",
    "\n",
    "RLidartocam = XYZtoRotationMatrix(math.pi/2,0,math.pi/2) #rotation to coincide lidar points to camera\n",
    "cp = copy.deepcopy(z)\n",
    "for i in range(len(cp)):\n",
    "    cp[i].rotate(np.array(RLidartocam))#transforms lidar points to camera frame\n",
    "    ps = np.append(Pose[i], np.array([[0,0,0,1]]) , axis=0) #gives camera to world transform\n",
    "    cp[i].transform((ps))#going from camera frame point cloud to world frame\n",
    "\n",
    "open3d.visualization.draw_geometries(cp,\n",
    "                                     front = [ 0.0011119002333739773, -0.74094929961805955, -0.67156004874722719 ],\n",
    "                                     lookat=  [ 39.825969951019133, 4.6046088357320052, 11.586009199183835 ],\n",
    "                                     up = [ -0.53043588615468118, -0.56973550046012811, 0.62772544172969891 ],\n",
    "                                     zoom = 0.5199999999999998)"
   ]
  },
  {
   "cell_type": "code",
   "execution_count": 15,
   "id": "64d33efa-b17d-4d82-9376-35f8a6c013d2",
   "metadata": {},
   "outputs": [],
   "source": [
    "use4 = copy.deepcopy(cp)"
   ]
  },
  {
   "cell_type": "code",
   "execution_count": 16,
   "id": "b246cb72-5586-4560-a80d-3cc554bf3131",
   "metadata": {},
   "outputs": [],
   "source": [
    "#PART-2\n",
    "#registering point cloud and visualising it with a coordinate frame attached\n",
    "\n",
    "pcd_combined = open3d.geometry.PointCloud()\n",
    "for i in range(len(cp)):\n",
    "    pcd_combined += cp[i]  \n",
    "open3d.visualization.draw_geometries([pcd_combined],\n",
    "                                     front = [ 0.0011119002333739773, -0.74094929961805955, -0.67156004874722719 ],\n",
    "                                     lookat=  [ 39.825969951019133, 4.6046088357320052, 11.586009199183835 ],\n",
    "                                     up = [ -0.53043588615468118, -0.56973550046012811, 0.62772544172969891 ],\n",
    "                                     zoom = 0.5199999999999998)"
   ]
  },
  {
   "cell_type": "code",
   "execution_count": 17,
   "id": "7d8d7a60-a0e6-4741-9899-53f3fad45b68",
   "metadata": {},
   "outputs": [],
   "source": [
    "#PART-3\n",
    "i=0 #value of i decides which camera frame we are viewing from\n",
    "pcd_copy = copy.deepcopy(pcd_combined)\n",
    "psi = np.append(Pose[i], np.array([[0,0,0,1]]) , axis=0) #rotation to coincide lidar points to camera\n",
    "icamera = inversetransform(psi)#rotation that does inverse of above\n",
    "pcd_copy.transform(icamera)#going to i'th camera frame\n",
    "open3d.visualization.draw_geometries([pcd_copy],\n",
    "                                     front = [ -0.18307620369887176, 0.00057437194095520715, -0.98309855748855768 ],\n",
    "                                     lookat  =[ 1.6095390281577615, -2.1388445737072632, 9.7513575429217205 ],\n",
    "                                     up = [ 0.026272745708895231, -0.99963980973995537, -0.0054766427657681506 ],\n",
    "                                     zoom = 0.039999999999999994)"
   ]
  },
  {
   "cell_type": "code",
   "execution_count": 18,
   "id": "4bdd84d3-e0ca-4afe-b2a3-7024357b7ee1",
   "metadata": {},
   "outputs": [],
   "source": [
    "#PART-4\n",
    "def custom_draw_geometry_with_key_callback(pcd):\n",
    "    i = 0\n",
    "    def go_left(vis):\n",
    "        nonlocal i\n",
    "        nonlocal pcd\n",
    "        psi = np.append(Pose[i], np.array([[0,0,0,1]]) , axis=0) #rotation to coincide lidar points to camera\n",
    "        icamera = inversetransform(psi)#rotation that does inverse of above\n",
    "        pcd.transform(psi)\n",
    "        if(i!=0):\n",
    "            i = i-1\n",
    "        psi = np.append(Pose[i], np.array([[0,0,0,1]]) , axis=0) #rotation to coincide lidar points to camera\n",
    "        icamera = inversetransform(psi)#rotation that does inverse of above\n",
    "        pcd.transform(icamera)#going to i'th camera frame\n",
    "        \n",
    "        ctr = vis.get_view_control()\n",
    "        ctr.set_front([ -0.18307620369887176, 0.00057437194095520715, -0.98309855748855768 ])\n",
    "        ctr.set_lookat([ 1.6095390281577615, -2.1388445737072632, 9.7513575429217205 ])\n",
    "        ctr.set_up([ 0.026272745708895231, -0.99963980973995537, -0.0054766427657681506 ])\n",
    "        ctr.set_zoom(0.039999999999999994)\n",
    "        \n",
    "        vis.update_geometry(pcd)\n",
    "        return False\n",
    "    \n",
    "    def go_right(vis):\n",
    "        nonlocal i\n",
    "        nonlocal pcd\n",
    "        psi = np.append(Pose[i], np.array([[0,0,0,1]]) , axis=0) #rotation to coincide lidar points to camera\n",
    "        icamera = inversetransform(psi)#rotation that does inverse of above\n",
    "        pcd.transform(psi)\n",
    "        if(i!=76):\n",
    "            i = i+1\n",
    "        psi = np.append(Pose[i], np.array([[0,0,0,1]]) , axis=0) #rotation to coincide lidar points to camera\n",
    "        icamera = inversetransform(psi)#rotation that does inverse of above\n",
    "        pcd.transform(icamera)#going to i'th camera frame\n",
    "\n",
    "        ctr = vis.get_view_control()\n",
    "        ctr.set_front([ -0.18307620369887176, 0.00057437194095520715, -0.98309855748855768 ])\n",
    "        ctr.set_lookat([ 1.6095390281577615, -2.1388445737072632, 9.7513575429217205 ])\n",
    "        ctr.set_up([ 0.026272745708895231, -0.99963980973995537, -0.0054766427657681506 ])\n",
    "        ctr.set_zoom(0.039999999999999994)\n",
    "        \n",
    "        vis.update_geometry(pcd)\n",
    "        return False\n",
    "\n",
    "    key_to_callback = {}\n",
    "    key_to_callback[ord(\"A\")] = go_left\n",
    "    key_to_callback[ord(\"D\")] = go_right\n",
    "    open3d.visualization.draw_geometries_with_key_callbacks([pcd], key_to_callback)"
   ]
  },
  {
   "cell_type": "code",
   "execution_count": 19,
   "id": "9a17c38c-8042-4e3f-b807-b5689899c0e5",
   "metadata": {},
   "outputs": [],
   "source": [
    "#USE A and D keys to move through camera frames\n",
    "pcd_copy = copy.deepcopy(pcd_combined)\n",
    "custom_draw_geometry_with_key_callback(pcd_copy)"
   ]
  },
  {
   "cell_type": "markdown",
   "id": "personal-divorce",
   "metadata": {},
   "source": [
    "# Occupancy Map"
   ]
  },
  {
   "cell_type": "markdown",
   "id": "overhead-discussion",
   "metadata": {},
   "source": [
    "Occupancy grid maps are discrete fine grain grid maps. These maps can be either 2-D or 3-D. Each cell in the occupancy grid map contains information on the physical objects present in the corresponding space. Since these maps shed light on what parts of the environment are occupied, and what is not, they are really useful for path planning and navigation.\n",
    "\n",
    "Occupancy grid maps are probabilistic in nature due to noisy measurements. Each cell can have three states: Occupied, unoccupied, and unknown. For the purpose of this assignment, you can ignore the unknown and work in a binary setting where 1 is occupied and 0 is unoccupied."
   ]
  },
  {
   "cell_type": "markdown",
   "id": "rental-display",
   "metadata": {},
   "source": [
    "1. The task here is to create an occupancy map for each LiDAR scan. You do not need to apply bayesian update rules here, just keep it simple. \n",
    "\n",
    "2. Now, using the *registered* point cloud, generate occupancy maps for each frame. What difference do you expect to see between the two methods?\n",
    "\n",
    "You can mark a cell as occupied based on a threshold of how many different z values are there for a particular (x,y) cell."
   ]
  },
  {
   "cell_type": "code",
   "execution_count": 20,
   "id": "83988b66-df64-4f4c-8ca2-16f0d47ddd4f",
   "metadata": {},
   "outputs": [],
   "source": [
    "def makeMap(z,thr):\n",
    "    inp = copy.deepcopy(z)\n",
    "    #Normalise data for usage\n",
    "    x = open3d.geometry.PointCloud.normalize_normals(inp)\n",
    "#     open3d.visualization.draw_geometries([x,mesh_frame])\n",
    "    CoordArr = np.asarray(x.points)\n",
    "    #Find range \n",
    "    maxCoord = np.max(CoordArr,axis=0)\n",
    "    minCoord = np.min(CoordArr,axis=0)\n",
    "    xMin = int(round(minCoord[0]))\n",
    "    zMin = int(round(minCoord[2]))\n",
    "    xR = int(round(maxCoord[0]) - round(minCoord[0]))\n",
    "    zR = int(round(maxCoord[2]) - round(minCoord[2]))\n",
    "    #Arrays to make maps\n",
    "    fData = np.zeros((xR+1,zR+1),dtype=float)\n",
    "    freeMap = np.zeros_like(fData,dtype=np.uint8)\n",
    "    occMap = np.zeros_like(fData,dtype=np.uint8)\n",
    "    rCoordArr = np.round(CoordArr)\n",
    "    #Removing non-unique z-values\n",
    "    urCoordArr = np.unique(rCoordArr,axis=0)\n",
    "    #Remove z-values prior to making grid\n",
    "    augData = np.delete(urCoordArr,1,1)\n",
    "    augData = augData.astype('int')\n",
    "    #Make cumulative data for each (x,y) combination\n",
    "    for i in augData:\n",
    "        xInd = i[0]-xMin\n",
    "        zInd = i[1]-zMin\n",
    "        fData[xInd][zInd] +=1\n",
    "    #Make Map \n",
    "    for i in range(xR):\n",
    "        for j in range(zR):\n",
    "            if fData[i][j]>0:\n",
    "                freeMap[i][j] = 1\n",
    "            if fData[i][j]>=thr:\n",
    "                occMap[i][j] = 1\n",
    "    return freeMap,occMap"
   ]
  },
  {
   "cell_type": "code",
   "execution_count": 21,
   "id": "d167e6ff-dbbc-44b6-a43d-d238053e20c1",
   "metadata": {},
   "outputs": [],
   "source": [
    "f,o = makeMap(use4[0],2)"
   ]
  },
  {
   "cell_type": "code",
   "execution_count": 22,
   "id": "559ff523-ae3a-46e6-a479-33c476790482",
   "metadata": {},
   "outputs": [
    {
     "data": {
      "text/plain": [
       "Text(0.5, 1.0, 'Occupied')"
      ]
     },
     "execution_count": 22,
     "metadata": {},
     "output_type": "execute_result"
    },
    {
     "data": {
      "image/png": "[encoded data removed]",
      "text/plain": [
       "<Figure size 432x288 with 2 Axes>"
      ]
     },
     "metadata": {
      "needs_background": "light"
     },
     "output_type": "display_data"
    }
   ],
   "source": [
    "fig, (ax1, ax2) = plt.subplots(1, 2)\n",
    "fig.suptitle('Occupancy Map for first scan(rest saved in results)')\n",
    "ax1.imshow(f,cmap='gray')\n",
    "ax1.set_title('Free')\n",
    "ax2.imshow(o,cmap='gray')\n",
    "ax2.set_title('Occupied')"
   ]
  },
  {
   "cell_type": "code",
   "execution_count": 23,
   "id": "e4d8c9fd-b44d-4ef3-b9b5-98aff58b4712",
   "metadata": {},
   "outputs": [],
   "source": [
    "# Part 1\n",
    "\n",
    "#For all 77 values\n",
    "for i in range(77):\n",
    "    f,o = makeMap(use4[i],3)\n",
    "    plt.imsave('results/free'+str(i)+'.png',f, cmap='gray')\n",
    "    plt.imsave('results/occ'+str(i)+'.png',o, cmap='gray')"
   ]
  },
  {
   "cell_type": "code",
   "execution_count": 24,
   "id": "377af75b-7db6-487d-933e-2e3d45661c07",
   "metadata": {},
   "outputs": [
    {
     "data": {
      "text/plain": [
       "Text(0.5, 1.0, 'Occupied')"
      ]
     },
     "execution_count": 24,
     "metadata": {},
     "output_type": "execute_result"
    },
    {
     "data": {
      "image/png": "[encoded data removed]",
      "text/plain": [
       "<Figure size 432x288 with 2 Axes>"
      ]
     },
     "metadata": {
      "needs_background": "light"
     },
     "output_type": "display_data"
    }
   ],
   "source": [
    "# Part 2\n",
    "\n",
    "#For registered point cloud\n",
    "f,o = makeMap(pcd_combined,5)\n",
    "plt.imsave('results/CombinedFree.png',f, cmap='gray')\n",
    "plt.imsave('results/CombinedOcc.png',o, cmap='gray')\n",
    "fig, (ax1, ax2) = plt.subplots(1, 2)\n",
    "fig.suptitle('Occupancy Map for first scan(rest saved in results)')\n",
    "ax1.imshow(f,cmap='gray')\n",
    "ax1.set_title('Free')\n",
    "ax2.imshow(o,cmap='gray')\n",
    "ax2.set_title('Occupied')"
   ]
  },
  {
   "cell_type": "markdown",
   "id": "8a9fe73b-4c82-433b-bff0-84563c0636d4",
   "metadata": {},
   "source": [
    "We see that there is a difference between the two methods in terms of the density. The registered point cloud provides the entire map which is able to produce the entire path way that the car travels. This is clearly evident in the occupied map."
   ]
  }
 ],
 "metadata": {
  "kernelspec": {
   "display_name": "DIP",
   "language": "python",
   "name": "dip"
  },
  "language_info": {
   "codemirror_mode": {
    "name": "ipython",
    "version": 3
   },
   "file_extension": ".py",
   "mimetype": "text/x-python",
   "name": "python",
   "nbconvert_exporter": "python",
   "pygments_lexer": "ipython3",
   "version": "3.6.9"
  }
 },
 "nbformat": 4,
 "nbformat_minor": 5
}
