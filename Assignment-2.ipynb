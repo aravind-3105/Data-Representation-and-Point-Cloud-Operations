{
 "cells": [
  {
   "cell_type": "markdown",
   "id": "e2e806d4",
   "metadata": {},
   "source": [
    "# Assignment - 2: Data Representation and Point Cloud Operations\n",
    "\n",
    "Team Name: \\<team name here\\> \n",
    "\n",
    "Roll number: \\<Roll number here (in sorted order)\\>"
   ]
  },
  {
   "cell_type": "markdown",
   "id": "1e42e4d4",
   "metadata": {},
   "source": [
    "# Instructions\n",
    "\n",
    "- Code must be written in Python in Jupyter Notebooks. We highly recommend using anaconda distribution or at the minimum, virtual environments for this assignment.\n",
    "- Save all your results in ```results/<question_number>/<sub_topic_number>/```\n",
    "- The **References** section provides you with important resources to solve the assignment.\n",
    "- Make sure your code is modular since you may need to reuse parts for future assignments.\n",
    "- Answer the descriptive questions in your own words with context & clarity. Do not copy answers from online resources or lecture notes.\n",
    "- The **deadline** for this assignment is on 26/09/2021 at 11:55pm. Please note that there will be no extensions.\n",
    "- Plagiarism is **strictly prohibited**."
   ]
  },
  {
   "cell_type": "markdown",
   "id": "bb6ccd58",
   "metadata": {},
   "source": [
    "# Submission Instructions\n",
    "\n",
    "1. Make sure your code runs without any errors after reinitializing the kernel and removing all saved variables.\n",
    "2. After completing your code and saving your results, zip the folder with name as ``Team_<team_name>_MR2021_Assignment_<assignment_number>.zip``"
   ]
  },
  {
   "cell_type": "code",
   "execution_count": 2,
   "id": "b40d245c",
   "metadata": {},
   "outputs": [],
   "source": [
    "import numpy as np\n",
    "import matplotlib.pyplot as plt\n",
    "import struct\n",
    "import open3d\n",
    "import cv2\n",
    "import io"
   ]
  },
  {
   "cell_type": "markdown",
   "id": "1f85262a",
   "metadata": {},
   "source": [
    "# Introduction to types of Transformations and Homogeneous coordinates\n",
    "\n",
    "In robotics applications, it is inevitable to keep track of the frames of multiple objects/worlds. These frames can be transformations from one coordinate frame to the other. **Homogeneous coordinates** help in keeping track of various coordinate frames and allow performing composition of various transforms. We will first try to understand between types of transformations and their invariant properties.\n",
    "1. What is the difference between Affine, Similarity, and Euclidean transform? What are the invariant properities of each type of transform?\n",
    "2. Watch this [video](https://www.youtube.com/watch?v=PvEl63t-opM) to briefly understand homogeneous coordinates. What are points at infinity? What type of transformation can you apply to transform a point from infinity to a point that is not at infinity? \n",
    "3. Using homogeneous coordinates we can represent different types of transformation as point transforms vs. frame transforms. Concatenation of transforms (whether you post multiply transformation matrices or pre-multiply transformation matrices) depends on the problem and how you are viewing it. Try to understand the difference between frame vs. point transformations from this [video](https://youtu.be/Za7Sdegf8m8?t=1834). Let's assume that our camera and world frames are coinciding with each other. We need to estimate the camera to world **frame** transformation matrix after applying the transformations defined below in terms of $T_i$.We apply **frame** transform to move the camera in the world in the following order:\n",
    "    1. $T_1$ from the camera coordinate frame.\n",
    "    2. $T_2$ from the world coordinate frame.\n",
    "    3. $T_3$ from the world coordinate frame.\n",
    "    4. $T_4$ from the camera coordinate frame.\n",
    "    5. $T_5$ from the camera coordinate frame.\n"
   ]
  },
  {
   "cell_type": "markdown",
   "id": "dc4c0e0a-d792-49f0-b1a1-27278feac6c6",
   "metadata": {},
   "source": [
    "<b>1.</b><br>\n",
    "   <b> 1.1.</b> Euclidean transform preserves angle and lengths, similarity transform preserves ratios of lengths, areas, and angles while affine transform preserves parallelism.<br>\n",
    "   <b> 1.2.</b>In terms of degrees of freedom, Affine transform has 6 DOF, Similarity transform has 4 DOF while euclidean transform has only 3 DOF.<br>\n",
    "<b>2.</b> Point where parallel lines appear to converge is to be taken as point at infinity(also called vanishing point). Perspective transform can be used to transform a point at infinity to a point at finite distance as follows: \n",
    "$$\\begin{bmatrix} 0 & 0 & 1 & 0\\end{bmatrix} \\begin{bmatrix} 1 & 0 & 0 & 0 \\\\ 0 & 1 & 0 & 0 \\\\ 0 & 0 & 1 & x \\end{bmatrix} = \\begin{bmatrix} 0 & 0 & 1/x & 1\\end{bmatrix}$$"
   ]
  },
  {
   "cell_type": "markdown",
   "id": "e5f08d84",
   "metadata": {},
   "source": [
    "# Visualise the Data\n",
    "\n",
    "Point clouds are a collection of points that represent a 3D shape or feature. Each point has its own set of X, Y and Z coordinates and in some cases additional attributes. A popular way to obtain this is by photogrammetry, though here we will use LiDAR data.\n",
    "\n",
    "LiDAR is a remote sensing process which collects measurements used to create 3D models and maps of objects and environments. Using ultraviolet, visible, or near-infrared light, LiDAR gauges spatial relationships and shapes by measuring the time it takes for signals to bounce off objects and return to the scanner.\n",
    "\n",
    "1. Download the data from [here](https://iiitaphyd-my.sharepoint.com/:f:/g/personal/venkata_surya_students_iiit_ac_in/EnYAMaTVIhJItzKYqtahE30BRKB6p6UfHN3TyJzvo6Mw0g?e=PegWds). It contains the LIDAR sensor output and odometry information per frame.\n",
    "\n",
    "    The .bin files contain the 3D point cloud captured by the LIDAR in this format - x, y, z, and reflectance. \n",
    "\n",
    "    The odometry information is given in the `odometry.txt` file, which is a 12 element vector. Reshape each of the first 77 rows to a 3x4 matrix to obtain the pose.\n",
    "    \n",
    "\n",
    "2. Obtain the point cloud from this and visualise for 1-2 frames."
   ]
  },
  {
   "cell_type": "markdown",
   "id": "ad02ac88-85f8-4407-93e2-d5c810f8c744",
   "metadata": {},
   "source": [
    "# Answers:\n",
    "\n",
    "### Part 1"
   ]
  },
  {
   "cell_type": "code",
   "execution_count": 27,
   "id": "21cc6252-92ef-4a8a-9e3e-64a7a2cacee2",
   "metadata": {},
   "outputs": [],
   "source": [
    "lines = []\n",
    "with io.open(\"data/odometry.txt\", mode=\"r\", encoding=\"utf-8\") as file:\n",
    "    for row in file:\n",
    "        l = row.split()\n",
    "        lines.append(l)\n",
    "# print(lines)"
   ]
  },
  {
   "cell_type": "code",
   "execution_count": 27,
   "id": "bde1ae04-d64c-4b27-9905-60e145cb66bb",
   "metadata": {},
   "outputs": [
    {
     "name": "stdout",
     "output_type": "stream",
     "text": [
      "[[ 1.000000e+00  9.043683e-12  2.326809e-11 ...  2.392370e-10\n",
      "   9.999999e-01 -2.220446e-16]\n",
      " [ 9.990498e-01 -1.649780e-03  4.355194e-02 ...  2.576529e-03\n",
      "   9.990480e-01  1.000725e+00]\n",
      " [ 9.960495e-01 -5.367949e-03  8.863831e-02 ...  7.485875e-03\n",
      "   9.960394e-01  1.995659e+00]\n",
      " ...\n",
      " [ 8.521727e-01 -2.191437e-02  5.228017e-01 ...  6.730095e-02\n",
      "   8.512152e-01 -1.048145e+03]\n",
      " [ 8.510645e-01 -2.217815e-02  5.245927e-01 ...  6.729994e-02\n",
      "   8.501262e-01 -1.046739e+03]\n",
      " [ 8.499437e-01 -2.495543e-02  5.262823e-01 ...  6.530726e-02\n",
      "   8.492505e-01 -1.045291e+03]]\n",
      "(1101, 12)\n"
     ]
    }
   ],
   "source": [
    "#Convert to float\n",
    "val = np.array(lines).astype('float')\n",
    "print(val)\n",
    "print(val.shape)"
   ]
  },
  {
   "cell_type": "code",
   "execution_count": 31,
   "id": "863bc158-4f66-47e6-9ccc-eab82d2cb6ff",
   "metadata": {},
   "outputs": [
    {
     "name": "stdout",
     "output_type": "stream",
     "text": [
      "(77, 12)\n"
     ]
    }
   ],
   "source": [
    "#Obtaining the first 77 rows\n",
    "odometry = val[:77, :]\n",
    "print(odometry.shape)\n",
    "# print(odometry)"
   ]
  },
  {
   "cell_type": "code",
   "execution_count": 39,
   "id": "ba2419f3-0e2f-4d2c-ba73-b1fe680f01b1",
   "metadata": {},
   "outputs": [],
   "source": [
    "# Reshape into 3x4 matrix\n",
    "Pose = np.zeros((77,3,4))\n",
    "for i in range(odometry.shape[0]):\n",
    "    p = np.reshape(odometry[i], (3, 4))\n",
    "    Pose[i] = p\n",
    "# print(Pose[2])"
   ]
  },
  {
   "cell_type": "markdown",
   "id": "e6a83d26-3f5a-428e-81a5-8c1c6f931c17",
   "metadata": {},
   "source": [
    "### Part 2"
   ]
  },
  {
   "cell_type": "code",
   "execution_count": 32,
   "id": "de8feb42-7992-484a-855e-f5aa44fbab3c",
   "metadata": {},
   "outputs": [],
   "source": [
    "# Read LiDAR sensor data and convert to PCD format for easier visualisation\n",
    "def BinToPCD(data):\n",
    "    PCD_point=[]\n",
    "    with open(data,\"rb\") as file:\n",
    "        val = file.read(16)\n",
    "        while val:\n",
    "            x,y,z,reflectance = struct.unpack(\"ffff\",val)\n",
    "            PCD_point.append([x,y,z])\n",
    "            val = file.read(16)\n",
    "    pcd = open3d.geometry.PointCloud()\n",
    "    pcd.points = open3d.utility.Vector3dVector(np.array(PCD_point))\n",
    "    return pcd"
   ]
  },
  {
   "cell_type": "code",
   "execution_count": 33,
   "id": "5d7124ff-462a-4573-8ffd-24e51799fcff",
   "metadata": {},
   "outputs": [],
   "source": [
    "z = []\n",
    "for j in range(1,8):\n",
    "    for i in range(9):\n",
    "        path = \"data/LiDAR/0000\"+str(j)+str(i)+\".bin\"\n",
    "        z1 = BinToPCD(path)\n",
    "        z.append(z1)\n",
    "# print(z)\n",
    "# z1 = convert_kitti_bin_to_pcd(\"data/LiDAR/000010.bin\")\n",
    "# z2 = convert_kitti_bin_to_pcd(\"data/LiDAR/000039.bin\")\n",
    "# z3 = convert_kitti_bin_to_pcd(\"data/LiDAR/000085.bin\")\n",
    "# z4 = convert_kitti_bin_to_pcd(\"data/LiDAR/000077.bin\")"
   ]
  },
  {
   "cell_type": "code",
   "execution_count": 34,
   "id": "ef9fdccf-aad0-4a59-a822-51f8da7024bd",
   "metadata": {},
   "outputs": [],
   "source": [
    "open3d.visualization.draw_geometries(z)"
   ]
  },
  {
   "cell_type": "markdown",
   "id": "hairy-riverside",
   "metadata": {},
   "source": [
    "# Transform \n",
    "\n",
    "The point cloud obtained is with respect to the LiDAR frame. The poses however, are in the camera frame. If we want to combine the point clouds from various frames, we need to bring them to the camera frame. \n",
    "\n",
    "1. Refer to the image below and apply the required transformation to the point cloud. \n",
    "\n",
    "2. Then, register all point clouds into a common reference frame and visualise it (Open3D). It is helpful to use homogeneous coordinates to keep track of the different frames.\n",
    "\n",
    "3. Write a function to transform the registered point cloud from the world to the $i^{th}$ camera frame, wherein $i$ is the input to the function.\n",
    "\n",
    "4. \\[Bonus\\] Move around in the registered point cloud using arrow keys like you would do in a game. For this you will have to regularly transform the entire registered world to your current camera frame and visualize repeatedly. You may choose to avoid visualizing points that are behind the camera in this case as they are not visible from the scene. You may also visualize points at a max depth to make the process easier.\n",
    "\n",
    "![](./img/transform.png)"
   ]
  },
  {
   "cell_type": "code",
   "execution_count": null,
   "id": "second-school",
   "metadata": {},
   "outputs": [],
   "source": []
  },
  {
   "cell_type": "markdown",
   "id": "personal-divorce",
   "metadata": {},
   "source": [
    "# Occupancy Map"
   ]
  },
  {
   "cell_type": "markdown",
   "id": "overhead-discussion",
   "metadata": {},
   "source": [
    "Occupancy grid maps are discrete fine grain grid maps. These maps can be either 2-D or 3-D. Each cell in the occupancy grid map contains information on the physical objects present in the corresponding space. Since these maps shed light on what parts of the environment are occupied, and what is not, they are really useful for path planning and navigation.\n",
    "\n",
    "Occupancy grid maps are probabilistic in nature due to noisy measurements. Each cell can have three states: Occupied, unoccupied, and unknown. For the purpose of this assignment, you can ignore the unknown and work in a binary setting where 1 is occupied and 0 is unoccupied."
   ]
  },
  {
   "cell_type": "markdown",
   "id": "rental-display",
   "metadata": {},
   "source": [
    "1. The task here is to create an occupancy map for each LiDAR scan. You do not need to apply bayesian update rules here, just keep it simple. \n",
    "\n",
    "2. Now, using the *registered* point cloud, generate occupancy maps for each frame. What difference do you expect to see between the two methods?\n",
    "\n",
    "You can mark a cell as occupied based on a threshold of how many different z values are there for a particular (x,y) cell."
   ]
  },
  {
   "cell_type": "code",
   "execution_count": null,
   "id": "collected-oklahoma",
   "metadata": {},
   "outputs": [],
   "source": []
  }
 ],
 "metadata": {
  "kernelspec": {
   "display_name": "DIP",
   "language": "python",
   "name": "dip"
  },
  "language_info": {
   "codemirror_mode": {
    "name": "ipython",
    "version": 3
   },
   "file_extension": ".py",
   "mimetype": "text/x-python",
   "name": "python",
   "nbconvert_exporter": "python",
   "pygments_lexer": "ipython3",
   "version": "3.6.9"
  }
 },
 "nbformat": 4,
 "nbformat_minor": 5
}
